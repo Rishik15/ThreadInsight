{
 "cells": [
  {
   "cell_type": "code",
   "execution_count": 13,
   "id": "3a1a5e0b-f5bb-4801-9b17-46315e4bf230",
   "metadata": {},
   "outputs": [],
   "source": [
    "import praw\n",
    "import pandas as pd\n",
    "import datetime\n",
    "import time\n",
    "from concurrent.futures import ThreadPoolExecutor, as_completed"
   ]
  },
  {
   "cell_type": "code",
   "execution_count": 15,
   "id": "c43fadf7-2921-4199-9b63-fb2e9417d1b5",
   "metadata": {},
   "outputs": [],
   "source": [
    "reddit = praw.Reddit(\n",
    "    client_id=\"Gdr88UlekXQoVBVQd1moig\",\n",
    "    client_secret=\"WHAbASIdXelrbhf96Ol-1WtU7DoHFg\",\n",
    "    user_agent=\"ThreadInsight/0.1 by Dry_Wolverine7741\"\n",
    ")"
   ]
  },
  {
   "cell_type": "code",
   "execution_count": 65,
   "id": "8ca8446b-6f68-48e0-b493-00fed5a00dde",
   "metadata": {},
   "outputs": [],
   "source": [
    "subreddit_name = \"funny\"\n",
    "days_to_fetch = 1\n",
    "max_posts = 500  \n",
    "subscribers = None\n",
    "post_workers = 2\n",
    "comment_workers = 3"
   ]
  },
  {
   "cell_type": "code",
   "execution_count": 73,
   "id": "a0c802df-eb57-4a8b-9414-d0154fba1919",
   "metadata": {},
   "outputs": [
    {
     "name": "stdout",
     "output_type": "stream",
     "text": [
      "🔍 Fetching only posts from the last 1 days in r/funny...\n",
      "Fetching subreddit metadata (subscribers)...\n",
      "🔍 Found 29 recent posts.\n",
      "✅ Done! Fetched 29 recent posts from r/funny.\n",
      "⏳ Total Execution Time: 25.21 seconds.\n"
     ]
    }
   ],
   "source": [
    "def fetch_recent_posts():\n",
    "    global subscribers\n",
    "    all_posts = []\n",
    "    subreddit_instance = reddit.subreddit(subreddit_name)\n",
    "\n",
    "    start_time = datetime.datetime.utcnow() - datetime.timedelta(days=days_to_fetch)\n",
    "    start_timestamp = int(start_time.timestamp())\n",
    "\n",
    "    print(f\"🔍 Fetching only posts from the last {days_to_fetch} days in r/{subreddit_name}...\")\n",
    "\n",
    "    post_list = []\n",
    "    backoff_time = 1\n",
    "\n",
    "    print(\"Fetching subreddit metadata (subscribers)...\")\n",
    "    subscribers = subreddit_instance.subscribers\n",
    "    time.sleep(1)\n",
    "\n",
    "    while True:\n",
    "        try:\n",
    "            for post in subreddit_instance.new(limit=max_posts):\n",
    "                if post.created_utc < start_timestamp:\n",
    "                    break\n",
    "                post_list.append(post)\n",
    "\n",
    "            post_list.sort(key=lambda x: x.created_utc, reverse=True)\n",
    "            print(f\"🔍 Found {len(post_list)} recent posts.\")\n",
    "            break\n",
    "\n",
    "        except praw.exceptions.APIException as e:\n",
    "            if \"RATELIMIT\" in str(e):\n",
    "                print(f\"⚠️ Rate limit exceeded. Sleeping {backoff_time}s before retrying...\")\n",
    "                time.sleep(backoff_time)\n",
    "                backoff_time *= 2\n",
    "            else:\n",
    "                raise e\n",
    "\n",
    "    def process_post(post):\n",
    "        post_type = \"Text\"\n",
    "        if post.url.endswith((\".jpg\", \".png\", \".gif\", \".jpeg\")):\n",
    "            post_type = \"Image\"\n",
    "        elif \"v.redd.it\" in post.url:\n",
    "            post_type = \"Video\"\n",
    "\n",
    "        try:\n",
    "            account_age_days = (\n",
    "                (datetime.datetime.utcnow() - datetime.datetime.utcfromtimestamp(post.author.created_utc)).days\n",
    "                if post.author and hasattr(post.author, \"created_utc\")\n",
    "                else None\n",
    "            )\n",
    "        except:\n",
    "            account_age_days = None\n",
    "\n",
    "        return {\n",
    "            \"id\": post.id,\n",
    "            \"author\": post.author.name if post.author else \"[deleted]\",\n",
    "            \"upvotes\": post.score,\n",
    "            \"created_utc\": post.created_utc,\n",
    "            \"post_type\": post_type,\n",
    "            \"flair\": post.link_flair_text,\n",
    "            \"subscribers\": subscribers,\n",
    "            \"crosspost_parent_list\": post.crosspost_parent_list if hasattr(post, \"crosspost_parent_list\") else None,\n",
    "            \"account_age_days\": account_age_days\n",
    "        }\n",
    "\n",
    "    with ThreadPoolExecutor(max_workers=post_workers) as executor:\n",
    "        futures = [executor.submit(process_post, post) for post in post_list]\n",
    "\n",
    "        for count, future in enumerate(as_completed(futures), start=1):\n",
    "            result = future.result()\n",
    "            if result:\n",
    "                all_posts.append(result)\n",
    "\n",
    "            if count % 100 == 0:\n",
    "                print(f\"✅ Processed {count}/{len(post_list)} posts... Sleeping for 1s.\")\n",
    "                time.sleep(1)\n",
    "\n",
    "    print(f\"✅ Done! Fetched {len(all_posts)} recent posts from r/{subreddit_name}.\")\n",
    "    return all_posts\n",
    "\n",
    "\n",
    "def fetch_comments(post_id):\n",
    "    backoff_time = 2\n",
    "    while True:\n",
    "        try:\n",
    "            submission = reddit.submission(id=post_id)\n",
    "            submission.comments.replace_more(limit=0)\n",
    "\n",
    "            comments = []\n",
    "            for comment in submission.comments.list():\n",
    "                comments.append({\n",
    "                    \"comment_id\": comment.id,\n",
    "                    \"comment_author\": comment.author.name if comment.author else \"[deleted]\",\n",
    "                    \"comment_upvotes\": comment.score,\n",
    "                    \"comment_created_utc\": comment.created_utc,\n",
    "                    \"post_id\": post_id\n",
    "                })\n",
    "\n",
    "            return comments\n",
    "\n",
    "        except praw.exceptions.APIException as e:\n",
    "            if \"RATELIMIT\" in str(e):\n",
    "                print(f\"⚠️ Rate limit on comments. Sleeping {backoff_time}s before retrying...\")\n",
    "                time.sleep(backoff_time)\n",
    "                backoff_time *= 2\n",
    "            else:\n",
    "                print(f\"⚠️ Error fetching comments for post {post_id}: {e}\")\n",
    "                return []\n",
    "\n",
    "\n",
    "def fetch_comments_parallel(posts):\n",
    "    all_comments = []\n",
    "    with ThreadPoolExecutor(max_workers=comment_workers) as executor:\n",
    "        future_to_post = {executor.submit(fetch_comments, post[\"id\"]): post[\"id\"] for post in posts}\n",
    "\n",
    "        for count, future in enumerate(as_completed(future_to_post), start=1):\n",
    "            post_id = future_to_post[future]\n",
    "            try:\n",
    "                all_comments.extend(future.result())\n",
    "            except Exception as exc:\n",
    "                print(f\"⚠️ Exception fetching comments for post {post_id}: {exc}\")\n",
    "\n",
    "            if count % 50 == 0:\n",
    "                print(f\"🗨️ Processed comments for {count} posts... Sleeping for 0.5s.\")\n",
    "                time.sleep(0.5)\n",
    "\n",
    "    return all_comments\n",
    "\n",
    "start_time = time.time()\n",
    "\n",
    "posts = fetch_recent_posts()\n",
    "all_comments = fetch_comments_parallel(posts)\n",
    "\n",
    "end_time = time.time()\n",
    "elapsed_time = end_time - start_time\n",
    "print(f\"⏳ Total Execution Time: {elapsed_time:.2f} seconds.\")"
   ]
  },
  {
   "cell_type": "code",
   "execution_count": 75,
   "id": "471fdfd4-270a-4c23-acb6-163ada21e305",
   "metadata": {},
   "outputs": [
    {
     "data": {
      "text/plain": [
       "1771"
      ]
     },
     "execution_count": 75,
     "metadata": {},
     "output_type": "execute_result"
    }
   ],
   "source": [
    "len(all_comments)"
   ]
  },
  {
   "cell_type": "code",
   "execution_count": 77,
   "id": "42630fb2-2bb5-4d68-b356-24f2ac09263f",
   "metadata": {},
   "outputs": [
    {
     "data": {
      "text/plain": [
       "29"
      ]
     },
     "execution_count": 77,
     "metadata": {},
     "output_type": "execute_result"
    }
   ],
   "source": [
    "len(posts)"
   ]
  },
  {
   "cell_type": "code",
   "execution_count": null,
   "id": "1faa241a-b6a1-4529-831e-1b3beee740f2",
   "metadata": {},
   "outputs": [],
   "source": []
  }
 ],
 "metadata": {
  "kernelspec": {
   "display_name": "Python [conda env:jupyter_env]",
   "language": "python",
   "name": "conda-env-jupyter_env-py"
  },
  "language_info": {
   "codemirror_mode": {
    "name": "ipython",
    "version": 3
   },
   "file_extension": ".py",
   "mimetype": "text/x-python",
   "name": "python",
   "nbconvert_exporter": "python",
   "pygments_lexer": "ipython3",
   "version": "3.10.8"
  }
 },
 "nbformat": 4,
 "nbformat_minor": 5
}
